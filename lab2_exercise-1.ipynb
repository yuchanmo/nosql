{
 "cells": [
  {
   "cell_type": "code",
   "execution_count": 1,
   "metadata": {},
   "outputs": [],
   "source": [
    "from pymongo import MongoClient\n",
    "from pprint import pprint\n",
    "\n",
    "client = MongoClient()\n",
    "db = client.lab02\n",
    "col = db.pypeople"
   ]
  },
  {
   "cell_type": "markdown",
   "metadata": {},
   "source": [
    "# Exercise: Basic CRUD"
   ]
  },
  {
   "cell_type": "markdown",
   "metadata": {},
   "source": [
    "## Insert"
   ]
  },
  {
   "cell_type": "code",
   "execution_count": 5,
   "metadata": {},
   "outputs": [
    {
     "data": {
      "text/plain": [
       "<pymongo.results.InsertOneResult at 0x7f6b73fc5988>"
      ]
     },
     "execution_count": 5,
     "metadata": {},
     "output_type": "execute_result"
    }
   ],
   "source": [
    "col.insert_one({'name': 'Jisu', 'age': 24})"
   ]
  },
  {
   "cell_type": "code",
   "execution_count": 6,
   "metadata": {},
   "outputs": [
    {
     "name": "stdout",
     "output_type": "stream",
     "text": [
      "[{'_id': ObjectId('5c77407d65d101115c82572b'), 'age': 24, 'name': 'Jisu'}]\n"
     ]
    }
   ],
   "source": [
    "pprint(list(col.find()))"
   ]
  },
  {
   "cell_type": "code",
   "execution_count": 7,
   "metadata": {},
   "outputs": [
    {
     "data": {
      "text/plain": [
       "<pymongo.results.InsertManyResult at 0x7f6b73a1fa88>"
      ]
     },
     "execution_count": 7,
     "metadata": {},
     "output_type": "execute_result"
    }
   ],
   "source": [
    "col.insert_many([{'name': 'Deayoung', 'age': 51}, {'name': 'Youngjin', 'age': 24}])"
   ]
  },
  {
   "cell_type": "code",
   "execution_count": 8,
   "metadata": {},
   "outputs": [
    {
     "name": "stdout",
     "output_type": "stream",
     "text": [
      "[{'_id': ObjectId('5c77407d65d101115c82572b'), 'age': 24, 'name': 'Jisu'},\n",
      " {'_id': ObjectId('5c7740aa65d101115c82572c'), 'age': 51, 'name': 'Deayoung'},\n",
      " {'_id': ObjectId('5c7740aa65d101115c82572d'), 'age': 24, 'name': 'Youngjin'}]\n"
     ]
    }
   ],
   "source": [
    "pprint(list(col.find()))"
   ]
  },
  {
   "cell_type": "markdown",
   "metadata": {},
   "source": [
    "## Update"
   ]
  },
  {
   "cell_type": "code",
   "execution_count": 9,
   "metadata": {},
   "outputs": [
    {
     "data": {
      "text/plain": [
       "<pymongo.results.UpdateResult at 0x7f6b73a1f748>"
      ]
     },
     "execution_count": 9,
     "metadata": {},
     "output_type": "execute_result"
    }
   ],
   "source": [
    "col.update_one({'name': 'Deayoung'}, {'$set' : {'location': 'Seoul'}})"
   ]
  },
  {
   "cell_type": "code",
   "execution_count": 10,
   "metadata": {},
   "outputs": [
    {
     "name": "stdout",
     "output_type": "stream",
     "text": [
      "[{'_id': ObjectId('5c77407d65d101115c82572b'), 'age': 24, 'name': 'Jisu'},\n",
      " {'_id': ObjectId('5c7740aa65d101115c82572c'),\n",
      "  'age': 51,\n",
      "  'location': 'Seoul',\n",
      "  'name': 'Deayoung'},\n",
      " {'_id': ObjectId('5c7740aa65d101115c82572d'), 'age': 24, 'name': 'Youngjin'}]\n"
     ]
    }
   ],
   "source": [
    "pprint(list(col.find()))"
   ]
  },
  {
   "cell_type": "code",
   "execution_count": 11,
   "metadata": {},
   "outputs": [
    {
     "data": {
      "text/plain": [
       "<pymongo.results.UpdateResult at 0x7f6b73a1fe48>"
      ]
     },
     "execution_count": 11,
     "metadata": {},
     "output_type": "execute_result"
    }
   ],
   "source": [
    "col.update_many({'age': 24}, {'$set' : {'location': 'Suwon'}})"
   ]
  },
  {
   "cell_type": "code",
   "execution_count": 12,
   "metadata": {},
   "outputs": [
    {
     "name": "stdout",
     "output_type": "stream",
     "text": [
      "[{'_id': ObjectId('5c77407d65d101115c82572b'),\n",
      "  'age': 24,\n",
      "  'location': 'Suwon',\n",
      "  'name': 'Jisu'},\n",
      " {'_id': ObjectId('5c7740aa65d101115c82572c'),\n",
      "  'age': 51,\n",
      "  'location': 'Seoul',\n",
      "  'name': 'Deayoung'},\n",
      " {'_id': ObjectId('5c7740aa65d101115c82572d'),\n",
      "  'age': 24,\n",
      "  'location': 'Suwon',\n",
      "  'name': 'Youngjin'}]\n"
     ]
    }
   ],
   "source": [
    "pprint(list(col.find()))"
   ]
  },
  {
   "cell_type": "markdown",
   "metadata": {},
   "source": [
    "## Delete"
   ]
  },
  {
   "cell_type": "code",
   "execution_count": 13,
   "metadata": {},
   "outputs": [
    {
     "data": {
      "text/plain": [
       "<pymongo.results.DeleteResult at 0x7f6b73a1db48>"
      ]
     },
     "execution_count": 13,
     "metadata": {},
     "output_type": "execute_result"
    }
   ],
   "source": [
    "col.delete_many({'location': 'Suwon'})"
   ]
  },
  {
   "cell_type": "code",
   "execution_count": 14,
   "metadata": {},
   "outputs": [
    {
     "name": "stdout",
     "output_type": "stream",
     "text": [
      "[{'_id': ObjectId('5c7740aa65d101115c82572c'),\n",
      "  'age': 51,\n",
      "  'location': 'Seoul',\n",
      "  'name': 'Deayoung'}]\n"
     ]
    }
   ],
   "source": [
    "pprint(list(col.find()))"
   ]
  },
  {
   "cell_type": "code",
   "execution_count": 15,
   "metadata": {},
   "outputs": [],
   "source": [
    "client.close()"
   ]
  }
 ],
 "metadata": {
  "kernelspec": {
   "display_name": "Python 3",
   "language": "python",
   "name": "python3"
  },
  "language_info": {
   "codemirror_mode": {
    "name": "ipython",
    "version": 3
   },
   "file_extension": ".py",
   "mimetype": "text/x-python",
   "name": "python",
   "nbconvert_exporter": "python",
   "pygments_lexer": "ipython3",
   "version": "3.5.2"
  }
 },
 "nbformat": 4,
 "nbformat_minor": 2
}
