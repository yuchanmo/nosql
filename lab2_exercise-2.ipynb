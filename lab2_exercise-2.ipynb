{
 "cells": [
  {
   "cell_type": "markdown",
   "metadata": {},
   "source": [
    "## default mongoclient setup"
   ]
  },
  {
   "cell_type": "code",
   "execution_count": 8,
   "metadata": {},
   "outputs": [],
   "source": [
    "from pymongo import MongoClient\n",
    "client = MongoClient()"
   ]
  },
  {
   "cell_type": "code",
   "execution_count": 9,
   "metadata": {},
   "outputs": [],
   "source": [
    "db = client.lab2\n",
    "collection = db.imdb"
   ]
  },
  {
   "cell_type": "markdown",
   "metadata": {},
   "source": [
    "## add a movie"
   ]
  },
  {
   "cell_type": "code",
   "execution_count": 10,
   "metadata": {},
   "outputs": [
    {
     "name": "stdout",
     "output_type": "stream",
     "text": [
      "Movie Title:WarAvengers: Infinity War\n",
      "Director:Anthony Russo and Joe Anthony\n",
      "Genre:Action, Adventure, Drama\n",
      "score:8.6\n",
      "[INFO] Success to insert!\n"
     ]
    }
   ],
   "source": [
    "# title\n",
    "title = input(\"Movie Title:\")\n",
    "# director\n",
    "director = input('Director:')\n",
    "# genre \n",
    "genre = input('Genre:').split(',')\n",
    "# score\n",
    "score = float(input('score:'))\n",
    "\n",
    "try:\n",
    "    result = collection.insert_one({\n",
    "        'title': title,\n",
    "        'director': director,\n",
    "        'genre': genre,\n",
    "        'score': score\n",
    "    })\n",
    "    print('[INFO] Success to insert!')\n",
    "except Exception as e:\n",
    "    print('[INFO] Failed to insert!')    "
   ]
  },
  {
   "cell_type": "code",
   "execution_count": 11,
   "metadata": {},
   "outputs": [
    {
     "name": "stdout",
     "output_type": "stream",
     "text": [
      "[INFO] Movie list\n",
      "WarAvengers: Infinity War\n"
     ]
    }
   ],
   "source": [
    "print('[INFO] Movie list')\n",
    "for item in collection.find():\n",
    "    print('{}'.format(item['title']))"
   ]
  },
  {
   "cell_type": "code",
   "execution_count": 13,
   "metadata": {
    "scrolled": true
   },
   "outputs": [
    {
     "name": "stdout",
     "output_type": "stream",
     "text": [
      "Movie Title:Bohemian Rhapsody\n",
      "Director:Bryan Singer\n",
      "Genre:Biography, Drama, Music\n",
      "score:8.1\n",
      "Quit (Y/n)? n\n",
      "Movie Title:Happy Death Day 2U\n",
      "Director:Christopher Landon\n",
      "Genre:Drama, Horror, Mystery\n",
      "score:6.6\n",
      "Quit (Y/n)? n\n",
      "Movie Title:Spider-Man: Into the Spider Verse\n",
      "Director:Bob Persichetti, Peter Ramsey\n",
      "Genre:Animation, Action, Adventure\n",
      "score:8.6\n",
      "Quit (Y/n)? Y\n",
      "[INFO] Success to insert!\n"
     ]
    }
   ],
   "source": [
    "# title\n",
    "quit = True\n",
    "movies = []\n",
    "while(quit):\n",
    "    title = input(\"Movie Title:\")\n",
    "    # director\n",
    "    director = input('Director:')\n",
    "    # genre \n",
    "    genre = input('Genre:').split(',')\n",
    "    # score\n",
    "    score = float(input('score:'))\n",
    "    movies.append({'title': title, 'director': director, 'genre': genre, 'score': score})\n",
    "    end = input('Quit (Y/n)? ')\n",
    "    if(end is 'Y'):\n",
    "        quit = False\n",
    "\n",
    "try:\n",
    "    result = collection.insert_many(movies)\n",
    "    print('[INFO] Success to insert!')\n",
    "except Exception as e:\n",
    "    print('[INFO] Failed to insert!')"
   ]
  },
  {
   "cell_type": "code",
   "execution_count": 14,
   "metadata": {},
   "outputs": [
    {
     "name": "stdout",
     "output_type": "stream",
     "text": [
      "[INFO] Movie list\n",
      "WarAvengers: Infinity War\n",
      "Bohemian Rhapsody\n",
      "Happy Death Day 2U\n",
      "Spider-Man: Into the Spider Verse\n"
     ]
    }
   ],
   "source": [
    "print('[INFO] Movie list')\n",
    "for item in collection.find():\n",
    "    print('{}'.format(item['title']))"
   ]
  },
  {
   "cell_type": "markdown",
   "metadata": {},
   "source": [
    "## Update movie information"
   ]
  },
  {
   "cell_type": "code",
   "execution_count": 15,
   "metadata": {
    "scrolled": true
   },
   "outputs": [
    {
     "name": "stdout",
     "output_type": "stream",
     "text": [
      "[INFO] Enter the title which you want to edit\n",
      "Movie Title: WarAvengers: Infinity War\n",
      "Director:Anthony Russo and Joe Russo\n",
      "Genre:Action, Adventure, Drama\n",
      "score:8.6\n",
      "[INFO] Success to update!\n"
     ]
    }
   ],
   "source": [
    "print('[INFO] Enter the title which you want to edit')\n",
    "# title\n",
    "title = input('Movie Title: ')\n",
    "# director\n",
    "director = input('Director:')\n",
    "# genre \n",
    "genre = input('Genre:').split(',')\n",
    "# score\n",
    "score = float(input('score:'))\n",
    "\n",
    "try:\n",
    "    result = collection.update_one(\n",
    "        {'title': title},\n",
    "        {\n",
    "            '$set': {\n",
    "                'director': director,\n",
    "                'genre': genre,\n",
    "                'score': score\n",
    "            }\n",
    "        }\n",
    "    )\n",
    "    print('[INFO] Success to update!')\n",
    "except Exception as e:\n",
    "    print('[INFO] Error occurred: {}'.format(e))"
   ]
  },
  {
   "cell_type": "code",
   "execution_count": 16,
   "metadata": {},
   "outputs": [
    {
     "name": "stdout",
     "output_type": "stream",
     "text": [
      "[INFO] Movie list\n",
      "[{'_id': ObjectId('5c774eeb65d1011248cbfc8b'),\n",
      "  'director': 'Anthony Russo and Joe Russo',\n",
      "  'genre': ['Action', ' Adventure', ' Drama'],\n",
      "  'score': 8.6,\n",
      "  'title': 'WarAvengers: Infinity War'},\n",
      " {'_id': ObjectId('5c774ff665d1011248cbfc8c'),\n",
      "  'director': 'Bryan Singer',\n",
      "  'genre': ['Biography', ' Drama', ' Music'],\n",
      "  'score': 8.1,\n",
      "  'title': 'Bohemian Rhapsody'},\n",
      " {'_id': ObjectId('5c774ff665d1011248cbfc8d'),\n",
      "  'director': 'Christopher Landon',\n",
      "  'genre': ['Drama', ' Horror', ' Mystery'],\n",
      "  'score': 6.6,\n",
      "  'title': 'Happy Death Day 2U'},\n",
      " {'_id': ObjectId('5c774ff665d1011248cbfc8e'),\n",
      "  'director': 'Bob Persichetti, Peter Ramsey',\n",
      "  'genre': ['Animation', ' Action', ' Adventure'],\n",
      "  'score': 8.6,\n",
      "  'title': 'Spider-Man: Into the Spider Verse'}]\n"
     ]
    }
   ],
   "source": [
    "from pprint import pprint\n",
    "print('[INFO] Movie list')\n",
    "pprint(list(collection.find()))"
   ]
  },
  {
   "cell_type": "markdown",
   "metadata": {},
   "source": [
    "## Remove movie"
   ]
  },
  {
   "cell_type": "code",
   "execution_count": null,
   "metadata": {},
   "outputs": [
    {
     "name": "stdout",
     "output_type": "stream",
     "text": [
      "[INFO] Enter the title which you want to edit\n",
      "Movie Title: Happy Death Day 2U\n"
     ]
    }
   ],
   "source": [
    "print('[INFO] Enter the title which you want to edit')\n",
    "\n",
    "# title\n",
    "title = input('Movie Title: ')\n",
    "delete_oper = input('[INFO] Are you sure? (Y/n)')\n",
    "if delete_oper is 'Y':\n",
    "    try:\n",
    "        result = collection.delete_one({'title': title})\n",
    "        print('[INFO] Deleted')\n",
    "    except Exception as e:\n",
    "        print('[INFO] Error occurred: {}'.format(e))"
   ]
  },
  {
   "cell_type": "code",
   "execution_count": null,
   "metadata": {},
   "outputs": [],
   "source": [
    "print('[INFO] Movie list')\n",
    "for item in collection.find():\n",
    "    print('{}'.format(item['title']))"
   ]
  },
  {
   "cell_type": "code",
   "execution_count": null,
   "metadata": {},
   "outputs": [],
   "source": [
    "client.close()"
   ]
  }
 ],
 "metadata": {
  "kernelspec": {
   "display_name": "Python 3",
   "language": "python",
   "name": "python3"
  },
  "language_info": {
   "codemirror_mode": {
    "name": "ipython",
    "version": 3
   },
   "file_extension": ".py",
   "mimetype": "text/x-python",
   "name": "python",
   "nbconvert_exporter": "python",
   "pygments_lexer": "ipython3",
   "version": "3.5.2"
  }
 },
 "nbformat": 4,
 "nbformat_minor": 2
}
