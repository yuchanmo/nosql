{
 "cells": [
  {
   "cell_type": "markdown",
   "metadata": {},
   "source": [
    "## use"
   ]
  },
  {
   "cell_type": "code",
   "execution_count": null,
   "metadata": {},
   "outputs": [],
   "source": [
    "from pymongo import MongoClient\n",
    "from pprint import pprint\n",
    "\n",
    "client = MongoClient('172.17.0.2')\n",
    "db = client.lab03\n",
    "col = db.people\n",
    "\n",
    "col.drop()"
   ]
  },
  {
   "cell_type": "markdown",
   "metadata": {},
   "source": [
    "## Insert"
   ]
  },
  {
   "cell_type": "code",
   "execution_count": null,
   "metadata": {},
   "outputs": [],
   "source": [
    "col.insert_many([{'name' : 'Kim', 'age' : 21, 'profile' : 'Hello I’m Kim'},\n",
    "{'name' : 'Lee', 'age' : 22 , 'profile' : 'Hello I’m Lee'},\n",
    "{'name' : 'Jung', 'age' : 22 , 'profile' : 'Hello I’m Jung'},\n",
    "{'name' : 'Park', 'age' : 26 , 'profile' : 'Hello I’m Park'}])\n",
    "\n",
    "pprint(list(col.find()))"
   ]
  },
  {
   "cell_type": "markdown",
   "metadata": {},
   "source": [
    "## Upsert"
   ]
  },
  {
   "cell_type": "code",
   "execution_count": null,
   "metadata": {},
   "outputs": [],
   "source": [
    "col.update_one({'name': 'Kim'}, {'$set': {'age': 24}}, upsert=True)\n",
    "col.update_one({'name': 'Koo'}, {'$set': {'age': 18}}, upsert=True)\n",
    "\n",
    "pprint(list(col.find()))"
   ]
  }
 ],
 "metadata": {
  "kernelspec": {
   "display_name": "Python 3",
   "language": "python",
   "name": "python3"
  },
  "language_info": {
   "codemirror_mode": {
    "name": "ipython",
    "version": 3
   },
   "file_extension": ".py",
   "mimetype": "text/x-python",
   "name": "python",
   "nbconvert_exporter": "python",
   "pygments_lexer": "ipython3",
   "version": "3.6.6"
  }
 },
 "nbformat": 4,
 "nbformat_minor": 2
}
