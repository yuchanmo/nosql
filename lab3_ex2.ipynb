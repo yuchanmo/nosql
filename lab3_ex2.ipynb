{
 "cells": [
  {
   "cell_type": "markdown",
   "metadata": {},
   "source": [
    "## PyMongo 셋업"
   ]
  },
  {
   "cell_type": "code",
   "execution_count": null,
   "metadata": {},
   "outputs": [],
   "source": [
    "from pymongo import MongoClient\n",
    "\n",
    "client = MongoClient('172.17.0.2')\n",
    "db = client.lab03\n",
    "collection = db.imdb"
   ]
  },
  {
   "cell_type": "markdown",
   "metadata": {},
   "source": [
    "## Before"
   ]
  },
  {
   "cell_type": "code",
   "execution_count": null,
   "metadata": {},
   "outputs": [],
   "source": [
    "for item in collection.find():\n",
    "    print('{}'.format(item))"
   ]
  },
  {
   "cell_type": "markdown",
   "metadata": {},
   "source": [
    "## 정답"
   ]
  },
  {
   "cell_type": "code",
   "execution_count": null,
   "metadata": {},
   "outputs": [],
   "source": [
    "print('[INFO] Processing...')\n",
    "\n",
    "success_count, too_high, too_low = 0, 0, 0\n",
    "for item in collection.find():\n",
    "    have_horror = False\n",
    "    # TODO: 아래의 current_score 계산하기\n",
    "    current_score = item['score']\n",
    "    current_score = current_score + 2 if 'Sci-Fi' in item['genre'] else current_score\n",
    "    if 'Horror' in item['genre']:\n",
    "        current_score = current_score - 3\n",
    "        have_horror = True\n",
    "    \n",
    "    if current_score >= 10:\n",
    "        # TODO: too_high 계산하기\n",
    "        too_high += 1\n",
    "    elif current_score <= 0:\n",
    "        # TODO: too_low 계산하기\n",
    "        too_low += 1\n",
    "    else:\n",
    "        # TODO: query를 위한 update_query 완성하기\n",
    "        update_query = {'$set': {'score': current_score} }\n",
    "        \n",
    "        if have_horror:\n",
    "            update_query['$pull'] = {'genre': 'Horror'}\n",
    "        \n",
    "        try:\n",
    "            # TODO: 여기서 update 수행 및 success_count 계산\n",
    "            collection.update_one({'title': item['title']}, update_query)\n",
    "            success_count += 1\n",
    "        except Exception as e:\n",
    "            print('[INFO] Error occurred: {}'.format(e))\n",
    "                \n",
    "\n",
    "total = success_count + too_high + too_low\n",
    "print('[INFO] Success ({}/{})'.format(success_count, total))\n",
    "print('[INFO] Failed because too high score ({}/{})'.format(too_high, total))\n",
    "print('[INFO] Failed because too low score ({}/{})'.format(too_low, total))"
   ]
  },
  {
   "cell_type": "markdown",
   "metadata": {},
   "source": [
    "## check"
   ]
  },
  {
   "cell_type": "code",
   "execution_count": null,
   "metadata": {},
   "outputs": [],
   "source": [
    "for item in collection.find():\n",
    "    print('{}'.format(item))"
   ]
  },
  {
   "cell_type": "markdown",
   "metadata": {},
   "source": [
    "## Show Details"
   ]
  },
  {
   "cell_type": "code",
   "execution_count": null,
   "metadata": {},
   "outputs": [],
   "source": [
    "print('[INFO] Enter movie title to show details')\n",
    "\n",
    "# title\n",
    "print('Movie Title: ', end='')\n",
    "title = input()\n",
    "\n",
    "result = collection.find_one({'title': title})\n",
    "if result is None:\n",
    "    print('[INFO] No movie founded')\n",
    "else:\n",
    "    # director\n",
    "    print('Director: {}'.format(result['director']))\n",
    "    print('Genre: {}'.format(','.join(result['genre'])))\n",
    "    print('score: {}'.format(result['score']))"
   ]
  },
  {
   "cell_type": "markdown",
   "metadata": {},
   "source": [
    "## One More Things..."
   ]
  },
  {
   "cell_type": "markdown",
   "metadata": {},
   "source": [
    "위의 easy 코드는 for loop을 일일히 돌면서 update_one()을 통해 결과를 update하지만, \n",
    "\n",
    "operator 들을 이용한 update_many를 통해 한번에 하는 방법도 존재.."
   ]
  }
 ],
 "metadata": {
  "kernelspec": {
   "display_name": "Python 3",
   "language": "python",
   "name": "python3"
  },
  "language_info": {
   "codemirror_mode": {
    "name": "ipython",
    "version": 3
   },
   "file_extension": ".py",
   "mimetype": "text/x-python",
   "name": "python",
   "nbconvert_exporter": "python",
   "pygments_lexer": "ipython3",
   "version": "3.6.6"
  }
 },
 "nbformat": 4,
 "nbformat_minor": 2
}
