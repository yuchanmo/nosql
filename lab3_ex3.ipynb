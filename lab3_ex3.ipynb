{
 "cells": [
  {
   "cell_type": "markdown",
   "metadata": {},
   "source": [
    "## use"
   ]
  },
  {
   "cell_type": "code",
   "execution_count": null,
   "metadata": {},
   "outputs": [],
   "source": [
    "from pymongo import MongoClient\n",
    "from pprint import pprint\n",
    "\n",
    "client = MongoClient('172.17.0.2')\n",
    "db = client.lab03\n",
    "col = db.posts"
   ]
  },
  {
   "cell_type": "markdown",
   "metadata": {},
   "source": [
    "## Insert"
   ]
  },
  {
   "cell_type": "code",
   "execution_count": null,
   "metadata": {
    "scrolled": true
   },
   "outputs": [],
   "source": [
    "col.insert_one({'name': 'Lee', 'content': 'Hello I\\'m Lee', 'tags': ['Hello', 'Greet']})\n",
    "\n",
    "pprint(col.find_one())"
   ]
  },
  {
   "cell_type": "markdown",
   "metadata": {},
   "source": [
    "## Add comments (array)"
   ]
  },
  {
   "cell_type": "code",
   "execution_count": null,
   "metadata": {},
   "outputs": [],
   "source": [
    "col.update_one({'name': 'Lee'}, {\n",
    "    '$set': {\n",
    "        'comments': [\n",
    "            {'name': 'Kim', 'content': 'Good posts.', 'like': 0}\n",
    "        ]\n",
    "    }\n",
    "})\n",
    "\n",
    "pprint(col.find_one())"
   ]
  },
  {
   "cell_type": "markdown",
   "metadata": {},
   "source": [
    "## Add multiple comments"
   ]
  },
  {
   "cell_type": "code",
   "execution_count": null,
   "metadata": {},
   "outputs": [],
   "source": [
    "col.update_one({'name': 'Lee'}, {\n",
    "    '$push': {\n",
    "        'comments': {\n",
    "            '$each': [\n",
    "                {'name': 'Choi', 'content': 'How is it going?', 'like': 1},\n",
    "                {'name': 'David', 'content': 'I\\'m David, What\\'s up?', 'like': 2},\n",
    "                {'name': 'Kim', 'content': 'Glad to hear that', 'like': 3}                \n",
    "            ]\n",
    "        }\n",
    "    }\n",
    "})\n",
    "\n",
    "pprint(col.find_one())"
   ]
  },
  {
   "cell_type": "markdown",
   "metadata": {},
   "source": [
    "## second comment to 2"
   ]
  },
  {
   "cell_type": "code",
   "execution_count": null,
   "metadata": {},
   "outputs": [],
   "source": [
    "col.update_one({'name': 'Lee'}, {'$set': {'comments.1.like': 2}})\n",
    "\n",
    "pprint(col.find_one())"
   ]
  },
  {
   "cell_type": "markdown",
   "metadata": {},
   "source": [
    "## Kim's first mached to 5"
   ]
  },
  {
   "cell_type": "code",
   "execution_count": null,
   "metadata": {},
   "outputs": [],
   "source": [
    "col.update_one({\"name\": \"Lee\", \"comments.name\":\"Kim\"}, {\"$set\":{\"comments.$.like\":5}})\n",
    "\n",
    "pprint(col.find_one())"
   ]
  },
  {
   "cell_type": "markdown",
   "metadata": {},
   "source": [
    "## pop last comment"
   ]
  },
  {
   "cell_type": "code",
   "execution_count": null,
   "metadata": {},
   "outputs": [],
   "source": [
    "col.update_one({\"name\": \"Lee\"}, {\"$pop\":{'comments': 1}})\n",
    "\n",
    "pprint(col.find_one())"
   ]
  },
  {
   "cell_type": "markdown",
   "metadata": {},
   "source": [
    "## pull Choi's comment"
   ]
  },
  {
   "cell_type": "code",
   "execution_count": null,
   "metadata": {},
   "outputs": [],
   "source": [
    "col.update_one({\"name\": \"Lee\"}, {\"$pull\":{'comments': {'name': 'Choi'}}})\n",
    "\n",
    "pprint(col.find_one())"
   ]
  },
  {
   "cell_type": "markdown",
   "metadata": {},
   "source": [
    "## unset 'content'"
   ]
  },
  {
   "cell_type": "code",
   "execution_count": null,
   "metadata": {},
   "outputs": [],
   "source": [
    "col.update_one({\"name\": \"Lee\"}, {\"$unset\": {'content': 1}})\n",
    "\n",
    "pprint(col.find_one())"
   ]
  },
  {
   "cell_type": "markdown",
   "metadata": {},
   "source": [
    "# Bye"
   ]
  },
  {
   "cell_type": "code",
   "execution_count": null,
   "metadata": {},
   "outputs": [],
   "source": [
    "client.close()"
   ]
  },
  {
   "cell_type": "code",
   "execution_count": null,
   "metadata": {},
   "outputs": [],
   "source": []
  }
 ],
 "metadata": {
  "kernelspec": {
   "display_name": "Python 3",
   "language": "python",
   "name": "python3"
  },
  "language_info": {
   "codemirror_mode": {
    "name": "ipython",
    "version": 3
   },
   "file_extension": ".py",
   "mimetype": "text/x-python",
   "name": "python",
   "nbconvert_exporter": "python",
   "pygments_lexer": "ipython3",
   "version": "3.6.6"
  }
 },
 "nbformat": 4,
 "nbformat_minor": 2
}
