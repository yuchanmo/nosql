{
 "cells": [
  {
   "cell_type": "markdown",
   "metadata": {},
   "source": [
    "# grade"
   ]
  },
  {
   "cell_type": "markdown",
   "metadata": {},
   "source": [
    "prerequisites"
   ]
  },
  {
   "cell_type": "code",
   "execution_count": null,
   "metadata": {},
   "outputs": [],
   "source": [
    "from pymongo import MongoClient\n",
    "\n",
    "client = MongoClient('172.17.0.2')\n",
    "db = client.lab5\n",
    "col = db.grade"
   ]
  },
  {
   "cell_type": "markdown",
   "metadata": {},
   "source": [
    "skeleton"
   ]
  },
  {
   "cell_type": "code",
   "execution_count": null,
   "metadata": {},
   "outputs": [],
   "source": [
    "raw_input = input('search >')\n",
    "\n",
    "params = raw_input.split()\n",
    "\n",
    "# query 부분\n",
    "result_cursor = ...\n",
    "\n",
    "print('sid\\t{}'.format(params[0]))\n",
    "for item in result_cursor:\n",
    "    print('{}\\t{}'.format(item['sid'], item['score']))"
   ]
  },
  {
   "cell_type": "markdown",
   "metadata": {},
   "source": [
    "Search documents by filtering type and score fields"
   ]
  },
  {
   "cell_type": "code",
   "execution_count": null,
   "metadata": {},
   "outputs": [],
   "source": [
    "raw_input = input('search >')\n",
    "params = raw_input.split()\n",
    "\n",
    "target_1, target_2 = None, None\n",
    "try:\n",
    "    target_1 = int(params[1])\n",
    "except:\n",
    "    split_result = params[1].split('-')\n",
    "    target_1, target_2 = int(split_result[0]), int(split_result[1])\n",
    "\n",
    "# query 부분\n",
    "result_cursor = None\n",
    "if target_2 is None:\n",
    "    result_cursor = col.find({'type': params[0],\n",
    "                              'score': target_1})\n",
    "else:\n",
    "    result_cursor = col.find({'type': params[0], \n",
    "                              'score': {\n",
    "                                  '$gte': target_1, \n",
    "                                  '$lte': target_2}})\n",
    "\n",
    "print('sid\\t{}'.format(params[0]))\n",
    "for item in result_cursor:\n",
    "    print('{}\\t{}'.format(item['sid'], item['score']))"
   ]
  },
  {
   "cell_type": "markdown",
   "metadata": {},
   "source": [
    "Close"
   ]
  },
  {
   "cell_type": "code",
   "execution_count": null,
   "metadata": {},
   "outputs": [],
   "source": [
    "client.close()"
   ]
  }
 ],
 "metadata": {
  "kernelspec": {
   "display_name": "Python 3",
   "language": "python",
   "name": "python3"
  },
  "language_info": {
   "codemirror_mode": {
    "name": "ipython",
    "version": 3
   },
   "file_extension": ".py",
   "mimetype": "text/x-python",
   "name": "python",
   "nbconvert_exporter": "python",
   "pygments_lexer": "ipython3",
   "version": "3.6.6"
  }
 },
 "nbformat": 4,
 "nbformat_minor": 2
}
