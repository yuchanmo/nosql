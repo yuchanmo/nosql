{
 "cells": [
  {
   "cell_type": "code",
   "execution_count": null,
   "metadata": {},
   "outputs": [],
   "source": [
    "import os\n",
    "os.system('mongoimport -d lab6 -c blog blog.json')"
   ]
  },
  {
   "cell_type": "code",
   "execution_count": 1,
   "metadata": {},
   "outputs": [],
   "source": [
    "from pymongo import MongoClient, ASCENDING, DESCENDING\n",
    "from pprint import pprint\n",
    "\n",
    "client = MongoClient()\n",
    "db = client.lab6\n",
    "blog = db.blog"
   ]
  },
  {
   "cell_type": "markdown",
   "metadata": {},
   "source": [
    "## 1-1"
   ]
  },
  {
   "cell_type": "code",
   "execution_count": 2,
   "metadata": {},
   "outputs": [
    {
     "name": "stdout",
     "output_type": "stream",
     "text": [
      "{'allPlansExecution': [],\n",
      " 'executionStages': {'advanced': 1,\n",
      "                     'direction': 'forward',\n",
      "                     'docsExamined': 4,\n",
      "                     'executionTimeMillisEstimate': 0,\n",
      "                     'filter': {'writer': {'$eq': 'Kim'}},\n",
      "                     'invalidates': 0,\n",
      "                     'isEOF': 1,\n",
      "                     'nReturned': 1,\n",
      "                     'needTime': 4,\n",
      "                     'needYield': 0,\n",
      "                     'restoreState': 0,\n",
      "                     'saveState': 0,\n",
      "                     'stage': 'COLLSCAN',\n",
      "                     'works': 6},\n",
      " 'executionSuccess': True,\n",
      " 'executionTimeMillis': 0,\n",
      " 'nReturned': 1,\n",
      " 'totalDocsExamined': 4,\n",
      " 'totalKeysExamined': 0}\n"
     ]
    }
   ],
   "source": [
    "stats = blog.find({'writer':'Kim'}).explain()['executionStats']\n",
    "pprint(stats)"
   ]
  },
  {
   "cell_type": "markdown",
   "metadata": {},
   "source": [
    "# 1-2"
   ]
  },
  {
   "cell_type": "code",
   "execution_count": 3,
   "metadata": {},
   "outputs": [
    {
     "name": "stdout",
     "output_type": "stream",
     "text": [
      "{'_id_': {'key': [('_id', 1)], 'ns': 'lab6.blog', 'v': 2},\n",
      " 'writer_1': {'key': [('writer', 1)], 'ns': 'lab6.blog', 'v': 2}}\n"
     ]
    }
   ],
   "source": [
    "blog.create_index([('writer', ASCENDING)])\n",
    "info = blog.index_information()\n",
    "pprint(info)"
   ]
  },
  {
   "cell_type": "markdown",
   "metadata": {},
   "source": [
    "## 1-3"
   ]
  },
  {
   "cell_type": "code",
   "execution_count": 4,
   "metadata": {},
   "outputs": [
    {
     "name": "stdout",
     "output_type": "stream",
     "text": [
      "{'allPlansExecution': [],\n",
      " 'executionStages': {'advanced': 1,\n",
      "                     'alreadyHasObj': 0,\n",
      "                     'docsExamined': 1,\n",
      "                     'executionTimeMillisEstimate': 0,\n",
      "                     'inputStage': {'advanced': 1,\n",
      "                                    'direction': 'forward',\n",
      "                                    'dupsDropped': 0,\n",
      "                                    'dupsTested': 0,\n",
      "                                    'executionTimeMillisEstimate': 0,\n",
      "                                    'indexBounds': {'writer': ['[\"Kim\", '\n",
      "                                                               '\"Kim\"]']},\n",
      "                                    'indexName': 'writer_1',\n",
      "                                    'indexVersion': 2,\n",
      "                                    'invalidates': 0,\n",
      "                                    'isEOF': 1,\n",
      "                                    'isMultiKey': False,\n",
      "                                    'isPartial': False,\n",
      "                                    'isSparse': False,\n",
      "                                    'isUnique': False,\n",
      "                                    'keyPattern': {'writer': 1},\n",
      "                                    'keysExamined': 1,\n",
      "                                    'multiKeyPaths': {'writer': []},\n",
      "                                    'nReturned': 1,\n",
      "                                    'needTime': 0,\n",
      "                                    'needYield': 0,\n",
      "                                    'restoreState': 0,\n",
      "                                    'saveState': 0,\n",
      "                                    'seeks': 1,\n",
      "                                    'seenInvalidated': 0,\n",
      "                                    'stage': 'IXSCAN',\n",
      "                                    'works': 2},\n",
      "                     'invalidates': 0,\n",
      "                     'isEOF': 1,\n",
      "                     'nReturned': 1,\n",
      "                     'needTime': 0,\n",
      "                     'needYield': 0,\n",
      "                     'restoreState': 0,\n",
      "                     'saveState': 0,\n",
      "                     'stage': 'FETCH',\n",
      "                     'works': 2},\n",
      " 'executionSuccess': True,\n",
      " 'executionTimeMillis': 0,\n",
      " 'nReturned': 1,\n",
      " 'totalDocsExamined': 1,\n",
      " 'totalKeysExamined': 1}\n"
     ]
    }
   ],
   "source": [
    "stats1 = blog.find({'writer':'Kim'}).explain()['executionStats']\n",
    "pprint(stats1)"
   ]
  },
  {
   "cell_type": "markdown",
   "metadata": {},
   "source": [
    "## 1-4"
   ]
  },
  {
   "cell_type": "code",
   "execution_count": 5,
   "metadata": {},
   "outputs": [
    {
     "name": "stdout",
     "output_type": "stream",
     "text": [
      "{'_id_': {'key': [('_id', 1)], 'ns': 'lab6.blog', 'v': 2},\n",
      " '_id_-1_writer_1': {'key': [('_id', -1), ('writer', 1)],\n",
      "                     'ns': 'lab6.blog',\n",
      "                     'v': 2},\n",
      " 'writer_1': {'key': [('writer', 1)], 'ns': 'lab6.blog', 'v': 2}}\n"
     ]
    }
   ],
   "source": [
    "blog.create_index([('_id', DESCENDING), ('writer', ASCENDING) ])\n",
    "info = blog.index_information()\n",
    "pprint(info)"
   ]
  },
  {
   "cell_type": "markdown",
   "metadata": {},
   "source": [
    "## 1-5"
   ]
  },
  {
   "cell_type": "code",
   "execution_count": 6,
   "metadata": {},
   "outputs": [
    {
     "name": "stdout",
     "output_type": "stream",
     "text": [
      "{'_id_': {'key': [('_id', 1)], 'ns': 'lab6.blog', 'v': 2}}\n"
     ]
    }
   ],
   "source": [
    "blog.drop_indexes()\n",
    "info = blog.index_information()\n",
    "pprint(info)"
   ]
  },
  {
   "cell_type": "code",
   "execution_count": 7,
   "metadata": {},
   "outputs": [],
   "source": [
    "client.close()"
   ]
  }
 ],
 "metadata": {
  "kernelspec": {
   "display_name": "Python 3",
   "language": "python",
   "name": "python3"
  },
  "language_info": {
   "codemirror_mode": {
    "name": "ipython",
    "version": 3
   },
   "file_extension": ".py",
   "mimetype": "text/x-python",
   "name": "python",
   "nbconvert_exporter": "python",
   "pygments_lexer": "ipython3",
   "version": "3.5.2"
  }
 },
 "nbformat": 4,
 "nbformat_minor": 2
}
