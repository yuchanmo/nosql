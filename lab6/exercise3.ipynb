{
 "cells": [
  {
   "cell_type": "code",
   "execution_count": null,
   "metadata": {},
   "outputs": [],
   "source": [
    "import os\n",
    "os.system('mongoimport -d geo -c states states.json')\n",
    "os.system('mongoimport -d geo -c airports airports.json')\n",
    "os.system('mongoimport -d geo -c small_zips small_zips.json')\n",
    "os.system('mongoimport -d geo -c restaurants restaurants.json')"
   ]
  },
  {
   "cell_type": "code",
   "execution_count": 1,
   "metadata": {},
   "outputs": [],
   "source": [
    "from pymongo import MongoClient, GEOSPHERE\n",
    "from pprint import pprint\n",
    "\n",
    "client = MongoClient()\n",
    "db = client.geo\n",
    "states = db.states"
   ]
  },
  {
   "cell_type": "markdown",
   "metadata": {},
   "source": [
    "## 1"
   ]
  },
  {
   "cell_type": "code",
   "execution_count": 2,
   "metadata": {},
   "outputs": [
    {
     "name": "stdout",
     "output_type": "stream",
     "text": [
      "{'_id_': {'key': [('_id', 1)], 'ns': 'geo.states', 'v': 2}}\n"
     ]
    }
   ],
   "source": [
    "pprint(states.index_information())"
   ]
  },
  {
   "cell_type": "code",
   "execution_count": 3,
   "metadata": {},
   "outputs": [
    {
     "data": {
      "text/plain": [
       "'loc_2dsphere'"
      ]
     },
     "execution_count": 3,
     "metadata": {},
     "output_type": "execute_result"
    }
   ],
   "source": [
    "states.create_index([(\"loc\", GEOSPHERE)])"
   ]
  },
  {
   "cell_type": "code",
   "execution_count": 4,
   "metadata": {},
   "outputs": [
    {
     "name": "stdout",
     "output_type": "stream",
     "text": [
      "{'_id_': {'key': [('_id', 1)], 'ns': 'geo.states', 'v': 2},\n",
      " 'loc_2dsphere': {'2dsphereIndexVersion': 3,\n",
      "                  'key': [('loc', '2dsphere')],\n",
      "                  'ns': 'geo.states',\n",
      "                  'v': 2}}\n"
     ]
    }
   ],
   "source": [
    "pprint(states.index_information())"
   ]
  },
  {
   "cell_type": "markdown",
   "metadata": {},
   "source": [
    "## 2"
   ]
  },
  {
   "cell_type": "code",
   "execution_count": 5,
   "metadata": {},
   "outputs": [
    {
     "name": "stdout",
     "output_type": "stream",
     "text": [
      "{'_id_': {'ns': 'geo.states', 'v': 2, 'key': [('_id', 1)]}}\n"
     ]
    }
   ],
   "source": [
    "states.drop_index([(\"loc\", GEOSPHERE)])\n",
    "print(states.index_information())"
   ]
  },
  {
   "cell_type": "code",
   "execution_count": 6,
   "metadata": {},
   "outputs": [],
   "source": [
    "client.close()"
   ]
  }
 ],
 "metadata": {
  "kernelspec": {
   "display_name": "Python 3",
   "language": "python",
   "name": "python3"
  },
  "language_info": {
   "codemirror_mode": {
    "name": "ipython",
    "version": 3
   },
   "file_extension": ".py",
   "mimetype": "text/x-python",
   "name": "python",
   "nbconvert_exporter": "python",
   "pygments_lexer": "ipython3",
   "version": "3.5.2"
  }
 },
 "nbformat": 4,
 "nbformat_minor": 2
}
