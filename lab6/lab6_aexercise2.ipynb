{
 "cells": [
  {
   "cell_type": "code",
   "execution_count": 2,
   "metadata": {},
   "outputs": [],
   "source": [
    "from pymongo import MongoClient, GEOSPHERE\n",
    "from pprint import pprint\n",
    "\n",
    "client = MongoClient()\n",
    "db = client.geo\n",
    "states = db.states\n",
    "airports = db.airports\n",
    "restaurants = db.restaurants\n",
    "zips=db.small_zips"
   ]
  },
  {
   "cell_type": "markdown",
   "metadata": {},
   "source": [
    "# Exercise 2-1"
   ]
  },
  {
   "cell_type": "code",
   "execution_count": null,
   "metadata": {},
   "outputs": [],
   "source": [
    "code = zips.find_one({\"_id\":\"10044\"})['state']\n",
    "pprint(code)"
   ]
  },
  {
   "cell_type": "code",
   "execution_count": null,
   "metadata": {},
   "outputs": [],
   "source": [
    "area = states.find_one({\"code\": code})"
   ]
  },
  {
   "cell_type": "code",
   "execution_count": null,
   "metadata": {},
   "outputs": [],
   "source": [
    "print(\"The state is\", area['name'])"
   ]
  },
  {
   "cell_type": "code",
   "execution_count": null,
   "metadata": {},
   "outputs": [],
   "source": [
    "cursor = airports.find(\n",
    "    {\"loc\": { \n",
    "        \"$geoWithin\" : { \n",
    "            \"$geometry\" : area[\"loc\"]}},\n",
    "     \"type\": \"International\"},\n",
    "    {\"name\":1, \"_id\" : 0}).sort(\"name\", 1)\n",
    "pprint(list(cursor))"
   ]
  },
  {
   "cell_type": "markdown",
   "metadata": {},
   "source": [
    "# Exercise 2-2"
   ]
  },
  {
   "cell_type": "code",
   "execution_count": null,
   "metadata": {},
   "outputs": [],
   "source": [
    "restaurants.create_index([(\"address.coord\", GEOSPHERE)])"
   ]
  },
  {
   "cell_type": "code",
   "execution_count": 3,
   "metadata": {},
   "outputs": [
    {
     "data": {
      "text/plain": [
       "{'_id_': {'key': [('_id', 1)], 'ns': 'geo.restaurants', 'v': 2},\n",
       " 'address.coord_2dsphere': {'2dsphereIndexVersion': 3,\n",
       "  'key': [('address.coord', '2dsphere')],\n",
       "  'ns': 'geo.restaurants',\n",
       "  'v': 2},\n",
       " 'address.zipcode_1': {'key': [('address.zipcode', 1)],\n",
       "  'ns': 'geo.restaurants',\n",
       "  'v': 2},\n",
       " 'grades.grade_1': {'key': [('grades.grade', 1)],\n",
       "  'ns': 'geo.restaurants',\n",
       "  'v': 2},\n",
       " 'name_text': {'default_language': 'english',\n",
       "  'key': [('_fts', 'text'), ('_ftsx', 1)],\n",
       "  'language_override': 'language',\n",
       "  'ns': 'geo.restaurants',\n",
       "  'textIndexVersion': 3,\n",
       "  'v': 2,\n",
       "  'weights': SON([('name', 1)])}}"
      ]
     },
     "execution_count": 3,
     "metadata": {},
     "output_type": "execute_result"
    }
   ],
   "source": [
    "restaurants.index_information()"
   ]
  },
  {
   "cell_type": "code",
   "execution_count": 4,
   "metadata": {},
   "outputs": [
    {
     "name": "stdout",
     "output_type": "stream",
     "text": [
      "[{'_id': ObjectId('5c8626729f44c9f6767fe0af'),\n",
      "  'address': {'building': '0',\n",
      "              'coord': [-73.7822056, 40.6434612],\n",
      "              'street': 'Jfk International Airpor',\n",
      "              'zipcode': '11430'},\n",
      "  'borough': 'Queens',\n",
      "  'cuisine': 'Korean',\n",
      "  'grades': [{'date': datetime.datetime(2014, 6, 18, 0, 0),\n",
      "              'grade': 'A',\n",
      "              'score': 2},\n",
      "             {'date': datetime.datetime(2014, 1, 14, 0, 0),\n",
      "              'grade': 'A',\n",
      "              'score': 12},\n",
      "             {'date': datetime.datetime(2013, 1, 4, 0, 0),\n",
      "              'grade': 'A',\n",
      "              'score': 11},\n",
      "             {'date': datetime.datetime(2012, 4, 25, 0, 0),\n",
      "              'grade': 'A',\n",
      "              'score': 13}],\n",
      "  'name': 'Korean Lounge',\n",
      "  'restaurant_id': '40625198'}]\n"
     ]
    }
   ],
   "source": [
    "area = airports.find({\"type\":\"International\"})\n",
    "\n",
    "for airport in area:\n",
    "    doc = restaurants.find(\n",
    "    { \"cuisine\":\"Korean\",\n",
    "     \"address.coord\": {\n",
    "         \"$near\" : { \n",
    "             \"$geometry\" : airport[\"loc\"],\n",
    "             \"$maxDistance\":2000}}})\n",
    "    li = list(doc)\n",
    "    if(len(li)>0):\n",
    "        pprint(li)"
   ]
  },
  {
   "cell_type": "markdown",
   "metadata": {},
   "source": [
    "# Exercise 2-3"
   ]
  },
  {
   "cell_type": "code",
   "execution_count": 5,
   "metadata": {},
   "outputs": [
    {
     "name": "stdout",
     "output_type": "stream",
     "text": [
      "{'_id': ObjectId('5c8626729f44c9f6767fd637'),\n",
      " 'code': 'LAX',\n",
      " 'loc': {'coordinates': [-118.408084, 33.942537], 'type': 'Point'},\n",
      " 'name': 'Los Angeles Intl',\n",
      " 'type': 'International'}\n",
      "{'_id': ObjectId('5c8626729f44c9f6767fd564'),\n",
      " 'code': 'DTW',\n",
      " 'loc': {'coordinates': [-83.348836, 42.212052], 'type': 'Point'},\n",
      " 'name': 'Detroit Metropolitan - Wayne County',\n",
      " 'type': 'International'}\n"
     ]
    }
   ],
   "source": [
    "lax = airports.find_one({'code': 'LAX'})\n",
    "dtw = airports.find_one({'code': 'DTW'})\n",
    "\n",
    "pprint(lax)\n",
    "pprint(dtw)"
   ]
  },
  {
   "cell_type": "code",
   "execution_count": 6,
   "metadata": {},
   "outputs": [
    {
     "name": "stdout",
     "output_type": "stream",
     "text": [
      "[{'name': 'Arizona'},\n",
      " {'name': 'California'},\n",
      " {'name': 'Colorado'},\n",
      " {'name': 'Illinois'},\n",
      " {'name': 'Iowa'},\n",
      " {'name': 'Kansas'},\n",
      " {'name': 'Michigan'},\n",
      " {'name': 'Nebraska'},\n",
      " {'name': 'Nevada'},\n",
      " {'name': 'Utah'}]\n"
     ]
    }
   ],
   "source": [
    "geojson = {\n",
    "    'type': 'LineString',\n",
    "    'coordinates': [lax['loc']['coordinates'],\n",
    "                    dtw['loc']['coordinates']]\n",
    "}\n",
    "result = states.find({\n",
    "    'loc': {\n",
    "        '$geoIntersects': {\n",
    "            '$geometry': geojson\n",
    "        }\n",
    "    } \n",
    "}, {'_id': 0, 'name': 1}).sort([('name', 1)])\n",
    "\n",
    "pprint(list(result))"
   ]
  },
  {
   "cell_type": "code",
   "execution_count": 7,
   "metadata": {},
   "outputs": [],
   "source": [
    "client.close()"
   ]
  }
 ],
 "metadata": {
  "kernelspec": {
   "display_name": "Python 3",
   "language": "python",
   "name": "python3"
  },
  "language_info": {
   "codemirror_mode": {
    "name": "ipython",
    "version": 3
   },
   "file_extension": ".py",
   "mimetype": "text/x-python",
   "name": "python",
   "nbconvert_exporter": "python",
   "pygments_lexer": "ipython3",
   "version": "3.5.2"
  }
 },
 "nbformat": 4,
 "nbformat_minor": 2
}
