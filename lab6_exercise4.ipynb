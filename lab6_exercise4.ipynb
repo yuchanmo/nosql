{
 "cells": [
  {
   "cell_type": "code",
   "execution_count": 1,
   "metadata": {},
   "outputs": [],
   "source": [
    "from pymongo import MongoClient, TEXT, GEOSPHERE\n",
    "from pprint import pprint\n",
    "\n",
    "client = MongoClient()\n",
    "db = client.geo\n",
    "restaurants = db.restaurants"
   ]
  },
  {
   "cell_type": "markdown",
   "metadata": {},
   "source": [
    "## Exercise 4"
   ]
  },
  {
   "cell_type": "code",
   "execution_count": 3,
   "metadata": {},
   "outputs": [
    {
     "data": {
      "text/plain": [
       "'name_text'"
      ]
     },
     "execution_count": 3,
     "metadata": {},
     "output_type": "execute_result"
    }
   ],
   "source": [
    "# create index\n",
    "restaurants.create_index([('name', TEXT)])"
   ]
  },
  {
   "cell_type": "code",
   "execution_count": 4,
   "metadata": {},
   "outputs": [
    {
     "name": "stdout",
     "output_type": "stream",
     "text": [
      "[{'borough': 'Manhattan', 'name': 'Kyochon'},\n",
      " {'borough': 'Queens', 'name': 'Kyochon Chicken'}]\n"
     ]
    }
   ],
   "source": [
    "text_result = restaurants.find(\n",
    "    {'$text': {'$search': 'Kyochon'}},\n",
    "    {'_id': 0, 'name': 1, 'borough': 1}\n",
    ")\n",
    "\n",
    "pprint(list(text_result))"
   ]
  },
  {
   "cell_type": "code",
   "execution_count": 5,
   "metadata": {},
   "outputs": [],
   "source": [
    "client.close()"
   ]
  }
 ],
 "metadata": {
  "kernelspec": {
   "display_name": "Python 3",
   "language": "python",
   "name": "python3"
  },
  "language_info": {
   "codemirror_mode": {
    "name": "ipython",
    "version": 3
   },
   "file_extension": ".py",
   "mimetype": "text/x-python",
   "name": "python",
   "nbconvert_exporter": "python",
   "pygments_lexer": "ipython3",
   "version": "3.5.2"
  }
 },
 "nbformat": 4,
 "nbformat_minor": 2
}
