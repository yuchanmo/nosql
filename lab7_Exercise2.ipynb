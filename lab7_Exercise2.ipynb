{
 "cells": [
  {
   "cell_type": "code",
   "execution_count": 1,
   "metadata": {},
   "outputs": [],
   "source": [
    "from pymongo import MongoClient\n",
    "import pymongo\n",
    "from pprint import pprint\n",
    "\n",
    "client = MongoClient()\n",
    "db = client.geo\n",
    "restaurants = db.restaurants"
   ]
  },
  {
   "cell_type": "markdown",
   "metadata": {},
   "source": [
    "# Ex 1-1"
   ]
  },
  {
   "cell_type": "code",
   "execution_count": 2,
   "metadata": {},
   "outputs": [
    {
     "name": "stdout",
     "output_type": "stream",
     "text": [
      "[{'_id': 'Brooklyn', 'count': 16},\n",
      " {'_id': 'Queens', 'count': 167},\n",
      " {'_id': 'Staten Island', 'count': 1},\n",
      " {'_id': 'Manhattan', 'count': 78}]\n"
     ]
    }
   ],
   "source": [
    "result = restaurants.aggregate(\n",
    "    [{ \"$match\": { \"cuisine\": \"Korean\"}},\n",
    "     { \"$group\": { \"_id\": \"$borough\", \"count\": { \"$sum\": 1 } } } \n",
    "    ]) \n",
    "pprint(list(result))"
   ]
  },
  {
   "cell_type": "markdown",
   "metadata": {},
   "source": [
    "# Ex 1-2"
   ]
  },
  {
   "cell_type": "code",
   "execution_count": 9,
   "metadata": {},
   "outputs": [
    {
     "name": "stdout",
     "output_type": "stream",
     "text": [
      "[{'_id': ObjectId('5c8626729f44c9f6767fd99f'),\n",
      "  'address': {'building': '1250',\n",
      "              'coord': [-73.9879627, 40.7478473],\n",
      "              'street': 'Broadway',\n",
      "              'zipcode': '10001'},\n",
      "  'borough': 'Manhattan',\n",
      "  'cuisine': 'Korean',\n",
      "  'grades': [{'date': datetime.datetime(2014, 11, 13, 0, 0),\n",
      "              'grade': 'Z',\n",
      "              'score': 17},\n",
      "             {'date': datetime.datetime(2014, 6, 30, 0, 0),\n",
      "              'grade': 'C',\n",
      "              'score': 30},\n",
      "             {'date': datetime.datetime(2013, 10, 21, 0, 0),\n",
      "              'grade': 'A',\n",
      "              'score': 13},\n",
      "             {'date': datetime.datetime(2013, 4, 19, 0, 0),\n",
      "              'grade': 'A',\n",
      "              'score': 11},\n",
      "             {'date': datetime.datetime(2012, 8, 13, 0, 0),\n",
      "              'grade': 'B',\n",
      "              'score': 20},\n",
      "             {'date': datetime.datetime(2012, 3, 5, 0, 0),\n",
      "              'grade': 'A',\n",
      "              'score': 13}],\n",
      "  'name': 'Kang Suh Korean Restaurant',\n",
      "  'restaurant_id': '40378729'}]\n"
     ]
    }
   ],
   "source": [
    "result1 = restaurants.aggregate(\n",
    "    [ { \"$match\": { \"cuisine\": 'Korean'}},{\"$limit\":1}])\n",
    "pprint(list(result1))"
   ]
  },
  {
   "cell_type": "code",
   "execution_count": 10,
   "metadata": {},
   "outputs": [
    {
     "name": "stdout",
     "output_type": "stream",
     "text": [
      "[{'_id': ObjectId('5c8626729f44c9f6767fd99f'),\n",
      "  'address': {'building': '1250',\n",
      "              'coord': [-73.9879627, 40.7478473],\n",
      "              'street': 'Broadway',\n",
      "              'zipcode': '10001'},\n",
      "  'borough': 'Manhattan',\n",
      "  'cuisine': 'Korean',\n",
      "  'grades': {'date': datetime.datetime(2014, 11, 13, 0, 0),\n",
      "             'grade': 'Z',\n",
      "             'score': 17},\n",
      "  'name': 'Kang Suh Korean Restaurant',\n",
      "  'restaurant_id': '40378729'},\n",
      " {'_id': ObjectId('5c8626729f44c9f6767fd99f'),\n",
      "  'address': {'building': '1250',\n",
      "              'coord': [-73.9879627, 40.7478473],\n",
      "              'street': 'Broadway',\n",
      "              'zipcode': '10001'},\n",
      "  'borough': 'Manhattan',\n",
      "  'cuisine': 'Korean',\n",
      "  'grades': {'date': datetime.datetime(2014, 6, 30, 0, 0),\n",
      "             'grade': 'C',\n",
      "             'score': 30},\n",
      "  'name': 'Kang Suh Korean Restaurant',\n",
      "  'restaurant_id': '40378729'},\n",
      " {'_id': ObjectId('5c8626729f44c9f6767fd99f'),\n",
      "  'address': {'building': '1250',\n",
      "              'coord': [-73.9879627, 40.7478473],\n",
      "              'street': 'Broadway',\n",
      "              'zipcode': '10001'},\n",
      "  'borough': 'Manhattan',\n",
      "  'cuisine': 'Korean',\n",
      "  'grades': {'date': datetime.datetime(2013, 10, 21, 0, 0),\n",
      "             'grade': 'A',\n",
      "             'score': 13},\n",
      "  'name': 'Kang Suh Korean Restaurant',\n",
      "  'restaurant_id': '40378729'},\n",
      " {'_id': ObjectId('5c8626729f44c9f6767fd99f'),\n",
      "  'address': {'building': '1250',\n",
      "              'coord': [-73.9879627, 40.7478473],\n",
      "              'street': 'Broadway',\n",
      "              'zipcode': '10001'},\n",
      "  'borough': 'Manhattan',\n",
      "  'cuisine': 'Korean',\n",
      "  'grades': {'date': datetime.datetime(2013, 4, 19, 0, 0),\n",
      "             'grade': 'A',\n",
      "             'score': 11},\n",
      "  'name': 'Kang Suh Korean Restaurant',\n",
      "  'restaurant_id': '40378729'},\n",
      " {'_id': ObjectId('5c8626729f44c9f6767fd99f'),\n",
      "  'address': {'building': '1250',\n",
      "              'coord': [-73.9879627, 40.7478473],\n",
      "              'street': 'Broadway',\n",
      "              'zipcode': '10001'},\n",
      "  'borough': 'Manhattan',\n",
      "  'cuisine': 'Korean',\n",
      "  'grades': {'date': datetime.datetime(2012, 8, 13, 0, 0),\n",
      "             'grade': 'B',\n",
      "             'score': 20},\n",
      "  'name': 'Kang Suh Korean Restaurant',\n",
      "  'restaurant_id': '40378729'},\n",
      " {'_id': ObjectId('5c8626729f44c9f6767fd99f'),\n",
      "  'address': {'building': '1250',\n",
      "              'coord': [-73.9879627, 40.7478473],\n",
      "              'street': 'Broadway',\n",
      "              'zipcode': '10001'},\n",
      "  'borough': 'Manhattan',\n",
      "  'cuisine': 'Korean',\n",
      "  'grades': {'date': datetime.datetime(2012, 3, 5, 0, 0),\n",
      "             'grade': 'A',\n",
      "             'score': 13},\n",
      "  'name': 'Kang Suh Korean Restaurant',\n",
      "  'restaurant_id': '40378729'}]\n"
     ]
    }
   ],
   "source": [
    "result = restaurants.aggregate(\n",
    "    [ { \"$match\": { \"cuisine\": 'Korean'}},\n",
    "      {\"$unwind\": '$grades'},\n",
    "      {\"$limit\":6}\n",
    "    ])\n",
    "\n",
    "pprint(list(result))"
   ]
  },
  {
   "cell_type": "code",
   "execution_count": 11,
   "metadata": {},
   "outputs": [
    {
     "name": "stdout",
     "output_type": "stream",
     "text": [
      "[{'_id': {'borough': 'Queens', 'grade': 'A'}, 'count': 443},\n",
      " {'_id': {'borough': 'Manhattan', 'grade': 'A'}, 'count': 232},\n",
      " {'_id': {'borough': 'Queens', 'grade': 'B'}, 'count': 140},\n",
      " {'_id': {'borough': 'Manhattan', 'grade': 'B'}, 'count': 49},\n",
      " {'_id': {'borough': 'Brooklyn', 'grade': 'A'}, 'count': 38}]\n"
     ]
    }
   ],
   "source": [
    "result = restaurants.aggregate(\n",
    "    [{\"$match\": { \"cuisine\": 'Korean'}},\n",
    "     {\"$unwind\": '$grades'},\n",
    "     {\"$group\": { \"_id\": {\"borough\": '$borough', \"grade\": '$grades.grade'},\n",
    "                  \"count\": { \"$sum\": 1 } }},\n",
    "     {\"$sort\":SON([(\"count\", -1)])}, \n",
    "     {\"$limit\":5} \n",
    "    ])\n",
    "\n",
    "pprint(list(result))"
   ]
  },
  {
   "cell_type": "code",
   "execution_count": 12,
   "metadata": {},
   "outputs": [],
   "source": [
    "client.close()"
   ]
  }
 ],
 "metadata": {
  "kernelspec": {
   "display_name": "Python 3",
   "language": "python",
   "name": "python3"
  },
  "language_info": {
   "codemirror_mode": {
    "name": "ipython",
    "version": 3
   },
   "file_extension": ".py",
   "mimetype": "text/x-python",
   "name": "python",
   "nbconvert_exporter": "python",
   "pygments_lexer": "ipython3",
   "version": "3.5.2"
  }
 },
 "nbformat": 4,
 "nbformat_minor": 2
}
