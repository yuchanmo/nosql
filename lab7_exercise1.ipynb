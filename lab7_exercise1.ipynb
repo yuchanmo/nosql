{
 "cells": [
  {
   "cell_type": "code",
   "execution_count": 2,
   "metadata": {},
   "outputs": [],
   "source": [
    "from pymongo import MongoClient, TEXT, GEOSPHERE\n",
    "from pprint import pprint\n",
    "\n",
    "client = MongoClient()\n",
    "db = client.geo\n",
    "restaurants = db.restaurants\n",
    "states = db.states"
   ]
  },
  {
   "cell_type": "code",
   "execution_count": 3,
   "metadata": {},
   "outputs": [
    {
     "data": {
      "text/plain": [
       "{'_id_': {'key': [('_id', 1)], 'ns': 'geo.restaurants', 'v': 2},\n",
       " 'address.coord_2dsphere': {'2dsphereIndexVersion': 3,\n",
       "  'key': [('address.coord', '2dsphere')],\n",
       "  'ns': 'geo.restaurants',\n",
       "  'v': 2},\n",
       " 'address.zipcode_1': {'key': [('address.zipcode', 1)],\n",
       "  'ns': 'geo.restaurants',\n",
       "  'v': 2},\n",
       " 'grades.grade_1': {'key': [('grades.grade', 1)],\n",
       "  'ns': 'geo.restaurants',\n",
       "  'v': 2},\n",
       " 'name_text': {'default_language': 'english',\n",
       "  'key': [('_fts', 'text'), ('_ftsx', 1)],\n",
       "  'language_override': 'language',\n",
       "  'ns': 'geo.restaurants',\n",
       "  'textIndexVersion': 3,\n",
       "  'v': 2,\n",
       "  'weights': SON([('name', 1)])}}"
      ]
     },
     "execution_count": 3,
     "metadata": {},
     "output_type": "execute_result"
    }
   ],
   "source": [
    "restaurants.index_information()"
   ]
  },
  {
   "cell_type": "markdown",
   "metadata": {},
   "source": [
    "# Exercise 1-1"
   ]
  },
  {
   "cell_type": "code",
   "execution_count": 4,
   "metadata": {
    "scrolled": false
   },
   "outputs": [
    {
     "data": {
      "text/plain": [
       "[{'address': {'building': '478',\n",
       "   'coord': [-73.9978033, 40.674716],\n",
       "   'street': 'Smith Street',\n",
       "   'zipcode': '11231'},\n",
       "  'name': 'Kimchi Grill'},\n",
       " {'address': {'building': '766',\n",
       "   'coord': [-73.9634926, 40.6750939],\n",
       "   'street': 'Washington Avenue',\n",
       "   'zipcode': '11238'},\n",
       "  'name': 'Kimchi Grill'},\n",
       " {'address': {'building': '18-20',\n",
       "   'coord': [-73.97853599999999, 40.757446],\n",
       "   'street': 'West 48 Street',\n",
       "   'zipcode': '10036'},\n",
       "  'name': 'New York Kimchi'}]"
      ]
     },
     "execution_count": 4,
     "metadata": {},
     "output_type": "execute_result"
    }
   ],
   "source": [
    "result = restaurants.find({\n",
    "    '$text': {'$search': 'Kimchi'}}, {\n",
    "    '_id': 0,\n",
    "    'address': 1,\n",
    "    'name':1\n",
    "})\n",
    "list(result)"
   ]
  },
  {
   "cell_type": "markdown",
   "metadata": {},
   "source": [
    "# Exercise 1-2"
   ]
  },
  {
   "cell_type": "code",
   "execution_count": 5,
   "metadata": {},
   "outputs": [
    {
     "name": "stdout",
     "output_type": "stream",
     "text": [
      "--- nolbu ---\n",
      "{'address': {'building': '164-25',\n",
      "             'coord': [-73.8013625, 40.7605922],\n",
      "             'street': 'Northern Boulevard',\n",
      "             'zipcode': '11358'}}\n"
     ]
    }
   ],
   "source": [
    "nolbu_coord = restaurants.find_one({\n",
    "    '$text': {\n",
    "        '$search': 'Nolbu Restaurant'\n",
    "    }}, {\n",
    "    '_id': 0,\n",
    "    'address': 1\n",
    "})\n",
    "print('--- nolbu ---')\n",
    "pprint(nolbu_coord)\n"
   ]
  },
  {
   "cell_type": "code",
   "execution_count": 6,
   "metadata": {},
   "outputs": [
    {
     "name": "stdout",
     "output_type": "stream",
     "text": [
      "--- result ---\n",
      "New York\n"
     ]
    }
   ],
   "source": [
    "name = states.find_one({\n",
    "    'loc': {\n",
    "        '$geoIntersects': {\n",
    "            '$geometry': {'type': 'Point', 'coordinates': nolbu_coord['address']['coord']}}}})['name']\n",
    "\n",
    "\n",
    "print('--- result ---')\n",
    "print(name)"
   ]
  },
  {
   "cell_type": "markdown",
   "metadata": {},
   "source": [
    "# Exercise 1-3"
   ]
  },
  {
   "cell_type": "code",
   "execution_count": 10,
   "metadata": {},
   "outputs": [
    {
     "name": "stdout",
     "output_type": "stream",
     "text": [
      "{'_id': ObjectId('5c8626739f44c9f676802de4'),\n",
      " 'address': {'building': '95',\n",
      "             'coord': [-73.9923524, 40.7238111],\n",
      "             'street': 'East Houston Street',\n",
      "             'zipcode': '10002'},\n",
      " 'borough': 'Manhattan',\n",
      " 'cuisine': 'Korean',\n",
      " 'grades': [{'date': datetime.datetime(2014, 4, 28, 0, 0),\n",
      "             'grade': 'A',\n",
      "             'score': 12}],\n",
      " 'name': 'Yuji Ramen',\n",
      " 'restaurant_id': '50008658'}\n"
     ]
    }
   ],
   "source": [
    "r_obj = restaurants.find_one({\n",
    "    'cuisine': 'Korean',\n",
    "    '$text': {\n",
    "        '$search': 'ramen -izakaya'}})\n",
    "pprint(r_obj)"
   ]
  },
  {
   "cell_type": "code",
   "execution_count": 11,
   "metadata": {},
   "outputs": [
    {
     "name": "stdout",
     "output_type": "stream",
     "text": [
      "[{'_id': ObjectId('5c8626739f44c9f6768035da'),\n",
      "  'address': {'building': '8',\n",
      "              'coord': [-73.9916305, 40.7247106],\n",
      "              'street': 'Extra Pl',\n",
      "              'zipcode': '10003'},\n",
      "  'borough': 'Manhattan',\n",
      "  'cuisine': 'Japanese',\n",
      "  'grades': [{'date': datetime.datetime(2015, 1, 20, 0, 0),\n",
      "              'grade': 'Not Yet Graded',\n",
      "              'score': 21}],\n",
      "  'name': 'Ko Ep, Llc',\n",
      "  'restaurant_id': '50015854'}]\n"
     ]
    }
   ],
   "source": [
    "geo_obj = {\n",
    "    'type': 'Point',\n",
    "    'coordinates': r_obj['address']['coord']\n",
    "}\n",
    "\n",
    "result = restaurants.find({\n",
    "    'cuisine': 'Japanese',\n",
    "    'address.coord': {\n",
    "        '$near': {\n",
    "            '$geometry': geo_obj,\n",
    "            '$maxDistance': 150\n",
    "        }\n",
    "    },\n",
    "    'name': {\n",
    "        '$ne': r_obj['name']\n",
    "    }\n",
    "})\n",
    "\n",
    "pprint(list(result))"
   ]
  },
  {
   "cell_type": "code",
   "execution_count": 12,
   "metadata": {},
   "outputs": [],
   "source": [
    "client.close()"
   ]
  }
 ],
 "metadata": {
  "kernelspec": {
   "display_name": "Python 3",
   "language": "python",
   "name": "python3"
  },
  "language_info": {
   "codemirror_mode": {
    "name": "ipython",
    "version": 3
   },
   "file_extension": ".py",
   "mimetype": "text/x-python",
   "name": "python",
   "nbconvert_exporter": "python",
   "pygments_lexer": "ipython3",
   "version": "3.5.2"
  }
 },
 "nbformat": 4,
 "nbformat_minor": 2
}
